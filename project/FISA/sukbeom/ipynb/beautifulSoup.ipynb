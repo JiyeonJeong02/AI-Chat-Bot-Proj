{
 "cells": [
  {
   "cell_type": "code",
   "execution_count": null,
   "metadata": {
    "vscode": {
     "languageId": "plaintext"
    }
   },
   "outputs": [],
   "source": [
    "import requests\n",
    "from bs4 import BeautifulSoup\n",
    "import urllib.parse\n",
    "\n",
    "def get_wikipedia_content(keyword):\n",
    "    try:\n",
    "        # URL 인코딩\n",
    "        encoded_keyword = urllib.parse.quote(keyword)\n",
    "        url = f'https://ko.wikipedia.org/wiki/{encoded_keyword}'\n",
    "        \n",
    "        # 페이지 요청\n",
    "        headers = {\n",
    "            'User-Agent': 'Mozilla/5.0 (Windows NT 10.0; Win64; x64) AppleWebKit/537.36 (KHTML, like Gecko) Chrome/91.0.4472.124 Safari/537.36'\n",
    "        }\n",
    "        response = requests.get(url, headers=headers)\n",
    "        response.raise_for_status()  # 에러 체크\n",
    "        \n",
    "        # HTML 파싱\n",
    "        soup = BeautifulSoup(response.text, 'html.parser')\n",
    "        \n",
    "        # 본문 내용 추출\n",
    "        content = soup.find('div', {'id': 'mw-content-text'})\n",
    "        if content:\n",
    "            # 불필요한 요소 제거\n",
    "            for unwanted in content.find_all(['script', 'style', 'sup', 'table']):\n",
    "                unwanted.decompose()\n",
    "                \n",
    "            # 텍스트 추출 및 정제\n",
    "            text = content.get_text(strip=True)\n",
    "            # 여러 줄 공백 제거\n",
    "            text = ' '.join(text.split())\n",
    "            return text\n",
    "        else:\n",
    "            return \"내용을 찾을 수 없습니다.\"\n",
    "            \n",
    "    except requests.RequestException as e:\n",
    "        return f\"페이지 요청 중 에러 발생: {str(e)}\"\n",
    "    except Exception as e:\n",
    "        return f\"에러 발생: {str(e)}\"\n",
    "\n",
    "def main():\n",
    "    keyword = input(\"검색할 키워드를 입력하세요: \")\n",
    "    result = get_wikipedia_content(keyword)\n",
    "    print(\"\\n=== 검색 결과 ===\")\n",
    "    print(result)\n",
    "\n",
    "if __name__ == \"__main__\":\n",
    "    main()"
   ]
  }
 ],
 "metadata": {
  "language_info": {
   "name": "python"
  }
 },
 "nbformat": 4,
 "nbformat_minor": 2
}
