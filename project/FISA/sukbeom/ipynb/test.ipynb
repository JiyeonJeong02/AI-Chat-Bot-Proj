{
 "cells": [
  {
   "cell_type": "code",
   "execution_count": 15,
   "metadata": {},
   "outputs": [
    {
     "name": "stdout",
     "output_type": "stream",
     "text": [
      "Collecting opensearch-py\n",
      "  Downloading opensearch_py-2.7.1-py3-none-any.whl.metadata (6.9 kB)\n",
      "Requirement already satisfied: requests<3.0.0,>=2.32.0 in /Users/sukbeom/.pyenv/versions/miniconda3-latest/envs/finProj/lib/python3.11/site-packages (from opensearch-py) (2.32.3)\n",
      "Requirement already satisfied: python-dateutil in /Users/sukbeom/.pyenv/versions/miniconda3-latest/envs/finProj/lib/python3.11/site-packages (from opensearch-py) (2.9.0)\n",
      "Requirement already satisfied: certifi>=2024.07.04 in /Users/sukbeom/.pyenv/versions/miniconda3-latest/envs/finProj/lib/python3.11/site-packages (from opensearch-py) (2024.8.30)\n",
      "Collecting Events (from opensearch-py)\n",
      "  Downloading Events-0.5-py3-none-any.whl.metadata (3.9 kB)\n",
      "Requirement already satisfied: urllib3!=2.2.0,!=2.2.1,<3,>=1.26.19 in /Users/sukbeom/.pyenv/versions/miniconda3-latest/envs/finProj/lib/python3.11/site-packages (from opensearch-py) (2.2.3)\n",
      "Requirement already satisfied: charset-normalizer<4,>=2 in /Users/sukbeom/.pyenv/versions/miniconda3-latest/envs/finProj/lib/python3.11/site-packages (from requests<3.0.0,>=2.32.0->opensearch-py) (3.4.0)\n",
      "Requirement already satisfied: idna<4,>=2.5 in /Users/sukbeom/.pyenv/versions/miniconda3-latest/envs/finProj/lib/python3.11/site-packages (from requests<3.0.0,>=2.32.0->opensearch-py) (3.10)\n",
      "Requirement already satisfied: six>=1.5 in /Users/sukbeom/.pyenv/versions/miniconda3-latest/envs/finProj/lib/python3.11/site-packages (from python-dateutil->opensearch-py) (1.16.0)\n",
      "Downloading opensearch_py-2.7.1-py3-none-any.whl (325 kB)\n",
      "Downloading Events-0.5-py3-none-any.whl (6.8 kB)\n",
      "Installing collected packages: Events, opensearch-py\n",
      "Successfully installed Events-0.5 opensearch-py-2.7.1\n"
     ]
    }
   ],
   "source": [
    "! pip install opensearch-py\n",
    "\n"
   ]
  },
  {
   "cell_type": "code",
   "execution_count": null,
   "metadata": {},
   "outputs": [
    {
     "data": {
      "text/html": [
       "<pre style=\"white-space:pre;overflow-x:auto;line-height:normal;font-family:Menlo,'DejaVu Sans Mono',consolas,'Courier New',monospace\"><span style=\"color: #808000; text-decoration-color: #808000; font-weight: bold\">/Users/sukbeom/.pyenv/versions/miniconda3-latest/envs/finProj/lib/python3.11/site-packages/airflow/configuration.py:</span><span style=\"color: #808000; text-decoration-color: #808000; font-weight: bold\">859</span><span style=\"color: #808000; text-decoration-color: #808000; font-weight: bold\"> FutureWarning</span><span style=\"color: #808000; text-decoration-color: #808000\">: section/key </span><span style=\"color: #808000; text-decoration-color: #808000; font-weight: bold\">[</span><span style=\"color: #808000; text-decoration-color: #808000\">core/sql_alchemy_conn</span><span style=\"color: #808000; text-decoration-color: #808000; font-weight: bold\">]</span><span style=\"color: #808000; text-decoration-color: #808000\"> has been deprecated, you should use</span><span style=\"color: #808000; text-decoration-color: #808000; font-weight: bold\">[</span><span style=\"color: #808000; text-decoration-color: #808000\">database/sql_alchemy_conn</span><span style=\"color: #808000; text-decoration-color: #808000; font-weight: bold\">]</span><span style=\"color: #808000; text-decoration-color: #808000\"> instead. Please update your `conf.get*` call to use the new name</span>\n",
       "</pre>\n"
      ],
      "text/plain": [
       "\u001b[1;33m/Users/sukbeom/.pyenv/versions/miniconda3-latest/envs/finProj/lib/python3.11/site-packages/airflow/\u001b[0m\u001b[1;33mconfiguration.py\u001b[0m\u001b[1;33m:\u001b[0m\u001b[1;33m859\u001b[0m\u001b[1;33m FutureWarning\u001b[0m\u001b[33m: section/key \u001b[0m\u001b[1;33m[\u001b[0m\u001b[33mcore/sql_alchemy_conn\u001b[0m\u001b[1;33m]\u001b[0m\u001b[33m has been deprecated, you should use\u001b[0m\u001b[1;33m[\u001b[0m\u001b[33mdatabase/sql_alchemy_conn\u001b[0m\u001b[1;33m]\u001b[0m\u001b[33m instead. Please update your `conf.get*` call to use the new name\u001b[0m\n"
      ]
     },
     "metadata": {},
     "output_type": "display_data"
    },
    {
     "data": {
      "text/html": [
       "<pre style=\"white-space:pre;overflow-x:auto;line-height:normal;font-family:Menlo,'DejaVu Sans Mono',consolas,'Courier New',monospace\"><span style=\"color: #808000; text-decoration-color: #808000; font-weight: bold\">/var/folders/54/h1qbsf9d3gdgjgz_297tgscw0000gn/T/ipykernel_14941/416574512.py:</span><span style=\"color: #808000; text-decoration-color: #808000; font-weight: bold\">6</span><span style=\"color: #808000; text-decoration-color: #808000; font-weight: bold\"> DeprecationWarning</span><span style=\"color: #808000; text-decoration-color: #808000\">: The `airflow.operators.python_operator.PythonOperator` class is deprecated. Please use `</span><span style=\"color: #808000; text-decoration-color: #808000\">'airflow.operators.python.PythonOperator'</span><span style=\"color: #808000; text-decoration-color: #808000\">`.</span>\n",
       "</pre>\n"
      ],
      "text/plain": [
       "\u001b[1;33m/var/folders/54/h1qbsf9d3gdgjgz_297tgscw0000gn/T/ipykernel_14941/\u001b[0m\u001b[1;33m416574512.py\u001b[0m\u001b[1;33m:\u001b[0m\u001b[1;33m6\u001b[0m\u001b[1;33m DeprecationWarning\u001b[0m\u001b[33m: The `airflow.operators.python_operator.PythonOperator` class is deprecated. Please use `\u001b[0m\u001b[33m'airflow.operators.python.PythonOperator'\u001b[0m\u001b[33m`.\u001b[0m\n"
      ]
     },
     "metadata": {},
     "output_type": "display_data"
    }
   ],
   "source": [
    "from datetime import datetime, timedelta\n",
    "import pandas as pd\n",
    "from fredapi import Fred\n",
    "import eland as ed\n",
    "from airflow import DAG\n",
    "from airflow.operators.python_operator import PythonOperator\n",
    "from elasticsearch import Elasticsearch\n",
    "# from dotenv import load_dotenv\n",
    "import os\n",
    "\n",
    "\n",
    "fred = Fred(api_key=\"your_api_key\")\n",
    "\n",
    "# 현재 날짜를 end_date로 사용\n",
    "end_date = datetime.today().strftime('%Y-%m-%d')\n"
   ]
  },
  {
   "cell_type": "code",
   "execution_count": 20,
   "metadata": {},
   "outputs": [
    {
     "data": {
      "text/html": [
       "<pre style=\"white-space:pre;overflow-x:auto;line-height:normal;font-family:Menlo,'DejaVu Sans Mono',consolas,'Courier New',monospace\"><span style=\"color: #808000; text-decoration-color: #808000; font-weight: bold\">/Users/sukbeom/.pyenv/versions/miniconda3-latest/envs/finProj/lib/python3.11/site-packages/opensearchpy/connection/http_urllib3.py:</span><span style=\"color: #808000; text-decoration-color: #808000; font-weight: bold\">214</span><span style=\"color: #808000; text-decoration-color: #808000; font-weight: bold\"> UserWarning</span><span style=\"color: #808000; text-decoration-color: #808000\">: Connecting to </span><span style=\"color: #808000; text-decoration-color: #808000; text-decoration: underline\">https://192.168.0.101:9300</span><span style=\"color: #808000; text-decoration-color: #808000\"> using SSL with </span><span style=\"color: #808000; text-decoration-color: #808000\">verify_certs</span><span style=\"color: #808000; text-decoration-color: #808000\">=</span><span style=\"color: #808000; text-decoration-color: #808000; font-style: italic\">False</span><span style=\"color: #808000; text-decoration-color: #808000\"> is insecure.</span>\n",
       "</pre>\n"
      ],
      "text/plain": [
       "\u001b[1;33m/Users/sukbeom/.pyenv/versions/miniconda3-latest/envs/finProj/lib/python3.11/site-packages/opensearchpy/connection/\u001b[0m\u001b[1;33mhttp_urllib3.py\u001b[0m\u001b[1;33m:\u001b[0m\u001b[1;33m214\u001b[0m\u001b[1;33m UserWarning\u001b[0m\u001b[33m: Connecting to \u001b[0m\u001b[4;33mhttps://192.168.0.101:9300\u001b[0m\u001b[33m using SSL with \u001b[0m\u001b[33mverify_certs\u001b[0m\u001b[33m=\u001b[0m\u001b[3;33mFalse\u001b[0m\u001b[33m is insecure.\u001b[0m\n"
      ]
     },
     "metadata": {},
     "output_type": "display_data"
    },
    {
     "data": {
      "text/html": [
       "<pre style=\"white-space:pre;overflow-x:auto;line-height:normal;font-family:Menlo,'DejaVu Sans Mono',consolas,'Courier New',monospace\"><span style=\"color: #808000; text-decoration-color: #808000; font-weight: bold\">/Users/sukbeom/.pyenv/versions/miniconda3-latest/envs/finProj/lib/python3.11/site-packages/urllib3/connectionpool.py:</span><span style=\"color: #808000; text-decoration-color: #808000; font-weight: bold\">1099</span><span style=\"color: #808000; text-decoration-color: #808000; font-weight: bold\"> InsecureRequestWarning</span><span style=\"color: #808000; text-decoration-color: #808000\">: Unverified HTTPS request is being made to host </span><span style=\"color: #808000; text-decoration-color: #808000\">'192.168.0.101'</span><span style=\"color: #808000; text-decoration-color: #808000\">. Adding certificate verification is strongly advised. See: </span><span style=\"color: #808000; text-decoration-color: #808000; text-decoration: underline\">https://urllib3.readthedocs.io/en/latest/advanced-usage.html#tls-warnings</span>\n",
       "</pre>\n"
      ],
      "text/plain": [
       "\u001b[1;33m/Users/sukbeom/.pyenv/versions/miniconda3-latest/envs/finProj/lib/python3.11/site-packages/urllib3/\u001b[0m\u001b[1;33mconnectionpool.py\u001b[0m\u001b[1;33m:\u001b[0m\u001b[1;33m1099\u001b[0m\u001b[1;33m InsecureRequestWarning\u001b[0m\u001b[33m: Unverified HTTPS request is being made to host \u001b[0m\u001b[33m'192.168.0.101'\u001b[0m\u001b[33m. Adding certificate verification is strongly advised. See: \u001b[0m\u001b[4;33mhttps://urllib3.readthedocs.io/en/latest/advanced-usage.html#tls-warnings\u001b[0m\n"
      ]
     },
     "metadata": {},
     "output_type": "display_data"
    },
    {
     "name": "stdout",
     "output_type": "stream",
     "text": [
      "[\u001b[34m2024-11-09T12:20:23.067+0900\u001b[0m] {\u001b[34mbase.py:\u001b[0m258} INFO\u001b[0m - GET https://192.168.0.101:9300/ [status:200 request:0.024s]\u001b[0m\n",
      "Welcome to opensearch 2.18.0!\n"
     ]
    }
   ],
   "source": [
    "es = Elasticsearch('http://192.168.0.101:9300', basic_auth= ('admin', 'woorifisa3!W'))\n",
    "\n",
    "from opensearchpy import OpenSearch\n",
    "\n",
    "host = '192.168.0.101'\n",
    "port = 9300\n",
    "auth = ('admin', 'woorifisa3!W') # For testing only. Don't store credentials in code.\n",
    "\n",
    "client = OpenSearch(\n",
    "    hosts = [{'host': host, 'port': port}],\n",
    "    http_auth = auth,\n",
    "    use_ssl = True,\n",
    "    verify_certs = False\n",
    ")\n",
    "\n",
    "info = client.info()\n",
    "print(f\"Welcome to {info['version']['distribution']} {info['version']['number']}!\")"
   ]
  },
  {
   "cell_type": "code",
   "execution_count": 21,
   "metadata": {},
   "outputs": [],
   "source": [
    "\n",
    "# 데이터 가져오기 함수\n",
    "def fetch_data(series_id, start_date='2015-01-01', end_date=end_date):\n",
    "    try:\n",
    "        data = fred.get_series(series_id, observation_start=start_date, observation_end=end_date)\n",
    "        return data\n",
    "    except ValueError as e:\n",
    "        print(f\"Error fetching data for {series_id}: {e}\")\n",
    "        return None\n",
    "\n",
    "# 데이터프레임 생성 함수\n",
    "def make_df():\n",
    "    data_frames = {\n",
    "        'FFTR': fetch_data('DFEDTARU'),\n",
    "        'GDP': fetch_data('GDP'),\n",
    "        'GDP Growth Rate': fetch_data('A191RL1Q225SBEA'),\n",
    "        'PCE': fetch_data('PCE'),\n",
    "        'Core PCE': fetch_data('PCEPILFE'),\n",
    "        'CPI': fetch_data('CPIAUCSL'),\n",
    "        'Core CPI': fetch_data('CPILFESL'),\n",
    "        'Personal Income': fetch_data('PI'),\n",
    "        'Unemployment Rate': fetch_data('UNRATE'),\n",
    "        'ISM Manufacturing': fetch_data('MANEMP'),\n",
    "        'Durable Goods Orders': fetch_data('DGORDER'),\n",
    "        'Building Permits': fetch_data('PERMIT'),\n",
    "        'Retail Sales': fetch_data('RSAFS'),\n",
    "        'Consumer Sentiment': fetch_data('UMCSENT'),\n",
    "        'Nonfarm Payrolls': fetch_data('PAYEMS'),\n",
    "        'JOLTS Hires': fetch_data('JTSHIL')\n",
    "    }\n",
    "    df = pd.DataFrame()\n",
    "    for key, value in data_frames.items():\n",
    "        if value is not None:\n",
    "            temp_df = value.reset_index()\n",
    "            temp_df.columns = ['date', key]\n",
    "            if df.empty:\n",
    "                df = temp_df\n",
    "            else:\n",
    "                df = pd.merge(df, temp_df, on='date', how='outer')\n",
    "    \n",
    "    df.sort_values(by='date', inplace=True)\n",
    "    df.fillna(method='ffill', inplace=True)\n",
    "    \n",
    "    return df\n"
   ]
  },
  {
   "cell_type": "code",
   "execution_count": 23,
   "metadata": {},
   "outputs": [
    {
     "data": {
      "text/html": [
       "<pre style=\"white-space:pre;overflow-x:auto;line-height:normal;font-family:Menlo,'DejaVu Sans Mono',consolas,'Courier New',monospace\"><span style=\"color: #808000; text-decoration-color: #808000; font-weight: bold\">/Users/sukbeom/.pyenv/versions/miniconda3-latest/envs/finProj/lib/python3.11/site-packages/urllib3/connectionpool.py:</span><span style=\"color: #808000; text-decoration-color: #808000; font-weight: bold\">1099</span><span style=\"color: #808000; text-decoration-color: #808000; font-weight: bold\"> InsecureRequestWarning</span><span style=\"color: #808000; text-decoration-color: #808000\">: Unverified HTTPS request is being made to host </span><span style=\"color: #808000; text-decoration-color: #808000\">'192.168.0.101'</span><span style=\"color: #808000; text-decoration-color: #808000\">. Adding certificate verification is strongly advised. See: </span><span style=\"color: #808000; text-decoration-color: #808000; text-decoration: underline\">https://urllib3.readthedocs.io/en/latest/advanced-usage.html#tls-warnings</span>\n",
       "</pre>\n"
      ],
      "text/plain": [
       "\u001b[1;33m/Users/sukbeom/.pyenv/versions/miniconda3-latest/envs/finProj/lib/python3.11/site-packages/urllib3/\u001b[0m\u001b[1;33mconnectionpool.py\u001b[0m\u001b[1;33m:\u001b[0m\u001b[1;33m1099\u001b[0m\u001b[1;33m InsecureRequestWarning\u001b[0m\u001b[33m: Unverified HTTPS request is being made to host \u001b[0m\u001b[33m'192.168.0.101'\u001b[0m\u001b[33m. Adding certificate verification is strongly advised. See: \u001b[0m\u001b[4;33mhttps://urllib3.readthedocs.io/en/latest/advanced-usage.html#tls-warnings\u001b[0m\n"
      ]
     },
     "metadata": {},
     "output_type": "display_data"
    },
    {
     "name": "stdout",
     "output_type": "stream",
     "text": [
      "[\u001b[34m2024-11-09T12:21:12.026+0900\u001b[0m] {\u001b[34mbase.py:\u001b[0m258} INFO\u001b[0m - PUT https://192.168.0.101:9300/fred_data [status:200 request:2.218s]\u001b[0m\n",
      "Index 'fred_data' created successfully with mappings.\n"
     ]
    },
    {
     "data": {
      "text/html": [
       "<pre style=\"white-space:pre;overflow-x:auto;line-height:normal;font-family:Menlo,'DejaVu Sans Mono',consolas,'Courier New',monospace\"><span style=\"color: #808000; text-decoration-color: #808000; font-weight: bold\">/Users/sukbeom/.pyenv/versions/miniconda3-latest/envs/finProj/lib/python3.11/site-packages/urllib3/connectionpool.py:</span><span style=\"color: #808000; text-decoration-color: #808000; font-weight: bold\">1099</span><span style=\"color: #808000; text-decoration-color: #808000; font-weight: bold\"> InsecureRequestWarning</span><span style=\"color: #808000; text-decoration-color: #808000\">: Unverified HTTPS request is being made to host </span><span style=\"color: #808000; text-decoration-color: #808000\">'192.168.0.101'</span><span style=\"color: #808000; text-decoration-color: #808000\">. Adding certificate verification is strongly advised. See: </span><span style=\"color: #808000; text-decoration-color: #808000; text-decoration: underline\">https://urllib3.readthedocs.io/en/latest/advanced-usage.html#tls-warnings</span>\n",
       "</pre>\n"
      ],
      "text/plain": [
       "\u001b[1;33m/Users/sukbeom/.pyenv/versions/miniconda3-latest/envs/finProj/lib/python3.11/site-packages/urllib3/\u001b[0m\u001b[1;33mconnectionpool.py\u001b[0m\u001b[1;33m:\u001b[0m\u001b[1;33m1099\u001b[0m\u001b[1;33m InsecureRequestWarning\u001b[0m\u001b[33m: Unverified HTTPS request is being made to host \u001b[0m\u001b[33m'192.168.0.101'\u001b[0m\u001b[33m. Adding certificate verification is strongly advised. See: \u001b[0m\u001b[4;33mhttps://urllib3.readthedocs.io/en/latest/advanced-usage.html#tls-warnings\u001b[0m\n"
      ]
     },
     "metadata": {},
     "output_type": "display_data"
    },
    {
     "name": "stdout",
     "output_type": "stream",
     "text": [
      "[\u001b[34m2024-11-09T12:21:12.048+0900\u001b[0m] {\u001b[34mbase.py:\u001b[0m258} INFO\u001b[0m - GET https://192.168.0.101:9300/fred_data/_mapping [status:200 request:0.021s]\u001b[0m\n",
      "Current index mapping: {'fred_data': {'mappings': {'properties': {'Building Permits': {'type': 'float'}, 'CPI': {'type': 'float'}, 'Consumer Sentiment': {'type': 'float'}, 'Core CPI': {'type': 'float'}, 'Core PCE': {'type': 'float'}, 'Durable Goods Orders': {'type': 'float'}, 'FFTR': {'type': 'float'}, 'GDP': {'type': 'float'}, 'GDP Growth Rate': {'type': 'float'}, 'ISM Manufacturing': {'type': 'float'}, 'JOLTS Hires': {'type': 'float'}, 'Nonfarm Payrolls': {'type': 'float'}, 'PCE': {'type': 'float'}, 'Personal Income': {'type': 'float'}, 'Retail Sales': {'type': 'float'}, 'Unemployment Rate': {'type': 'float'}, 'date': {'type': 'date'}}}}}\n"
     ]
    }
   ],
   "source": [
    "# # 기존 인덱스 삭제 (필요할 경우)\n",
    "# if es.indices.exists(index='fred_data'):\n",
    "#     es.indices.delete(index='fred_data')\n",
    "\n",
    "# 인덱스 생성 시 매핑 정보 추가\n",
    "try:\n",
    "    client.indices.create(\n",
    "        index='fred_data',\n",
    "        body={\n",
    "            \"mappings\": {\n",
    "                \"properties\": {\n",
    "                    \"date\": {\"type\": \"date\"},\n",
    "                    \"FFTR\": {\"type\": \"float\"},\n",
    "                    \"GDP\": {\"type\": \"float\"},\n",
    "                    \"GDP Growth Rate\": {\"type\": \"float\"},\n",
    "                    \"PCE\": {\"type\": \"float\"},\n",
    "                    \"Core PCE\": {\"type\": \"float\"},\n",
    "                    \"CPI\": {\"type\": \"float\"},\n",
    "                    \"Core CPI\": {\"type\": \"float\"},\n",
    "                    \"Personal Income\": {\"type\": \"float\"},\n",
    "                    \"Unemployment Rate\": {\"type\": \"float\"},\n",
    "                    \"ISM Manufacturing\": {\"type\": \"float\"},\n",
    "                    \"Durable Goods Orders\": {\"type\": \"float\"},\n",
    "                    \"Building Permits\": {\"type\": \"float\"},\n",
    "                    \"Retail Sales\": {\"type\": \"float\"},\n",
    "                    \"Consumer Sentiment\": {\"type\": \"float\"},\n",
    "                    \"Nonfarm Payrolls\": {\"type\": \"float\"},\n",
    "                    \"JOLTS Hires\": {\"type\": \"float\"}\n",
    "                }\n",
    "            }\n",
    "        }\n",
    "    )\n",
    "    print(\"Index 'fred_data' created successfully with mappings.\")\n",
    "except :\n",
    "    pass\n",
    "    \n",
    "# 인덱스 매핑 확인\n",
    "try:\n",
    "    mapping = client.indices.get_mapping(index='fred_data')\n",
    "    print(\"Current index mapping:\", mapping)\n",
    "except Exception as e:\n",
    "    print(f\"Error fetching index mapping: {e}\")\n"
   ]
  },
  {
   "cell_type": "code",
   "execution_count": null,
   "metadata": {},
   "outputs": [],
   "source": [
    "\n",
    "# 데이터프레임을 Elasticsearch로 전송하는 함수\n",
    "def dataframe_to_elasticsearch():\n",
    "    df = make_df()\n",
    "    ed.pandas_to_eland(\n",
    "        pd_df=df,\n",
    "        es_client=es,\n",
    "        es_dest_index=\"fred_data\",\n",
    "        es_if_exists=\"append\",\n",
    "        es_refresh=True\n",
    "    )\n",
    "\n",
    "# Airflow 기본 설정\n",
    "default_args = {\n",
    "    'depends_on_past': False,\n",
    "    'retires': 1,\n",
    "    'retry_delay': timedelta(minutes=1)\n",
    "}\n",
    "\n",
    "# DAG 정의\n",
    "with DAG(\n",
    "    'fred_uploader_elasticsearch_v2',\n",
    "    default_args=default_args,\n",
    "    description=\"연준 데이터를 Elasticsearch에 업로드합니다.\",\n",
    "    schedule_interval='@daily',\n",
    "    start_date=datetime(2015, 1, 1),\n",
    "    catchup=False,\n",
    "    tags=['elasticsearch', 'fred', 'data']\n",
    ") as dag:\n",
    "    \n",
    "    # PythonOperator 설정\n",
    "    t1 = PythonOperator(\n",
    "        task_id=\"upload_fred_data_to_elasticsearch\",\n",
    "        python_callable=dataframe_to_elasticsearch,\n",
    "    )\n",
    "\n",
    "    t1\n"
   ]
  }
 ],
 "metadata": {
  "kernelspec": {
   "display_name": "finProj",
   "language": "python",
   "name": "python3"
  },
  "language_info": {
   "codemirror_mode": {
    "name": "ipython",
    "version": 3
   },
   "file_extension": ".py",
   "mimetype": "text/x-python",
   "name": "python",
   "nbconvert_exporter": "python",
   "pygments_lexer": "ipython3",
   "version": "3.11.10"
  }
 },
 "nbformat": 4,
 "nbformat_minor": 2
}
